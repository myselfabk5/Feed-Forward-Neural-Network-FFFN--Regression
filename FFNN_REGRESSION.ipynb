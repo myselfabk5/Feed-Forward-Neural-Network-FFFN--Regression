{
 "cells": [
  {
   "cell_type": "code",
   "execution_count": 61,
   "metadata": {},
   "outputs": [],
   "source": [
    "import numpy as np\n",
    "import pandas as pd\n",
    "import torch\n",
    "import torch.nn as nn\n",
    "import torch.optim as optim\n",
    "from torch.utils.data import DataLoader, TensorDataset\n",
    "from sklearn.model_selection import train_test_split\n",
    "from sklearn.metrics import classification_report\n",
    "from sklearn.metrics import r2_score, mean_squared_error\n",
    "from sklearn.preprocessing import StandardScaler\n",
    "import matplotlib.pyplot as plt"
   ]
  },
  {
   "cell_type": "code",
   "execution_count": 64,
   "metadata": {},
   "outputs": [],
   "source": [
    "data = pd.read_csv(r\"C:\\Users\\DELL\\Downloads\\housing_prices.csv\")"
   ]
  },
  {
   "cell_type": "code",
   "execution_count": 65,
   "metadata": {},
   "outputs": [
    {
     "data": {
      "text/html": [
       "<div>\n",
       "<style scoped>\n",
       "    .dataframe tbody tr th:only-of-type {\n",
       "        vertical-align: middle;\n",
       "    }\n",
       "\n",
       "    .dataframe tbody tr th {\n",
       "        vertical-align: top;\n",
       "    }\n",
       "\n",
       "    .dataframe thead th {\n",
       "        text-align: right;\n",
       "    }\n",
       "</style>\n",
       "<table border=\"1\" class=\"dataframe\">\n",
       "  <thead>\n",
       "    <tr style=\"text-align: right;\">\n",
       "      <th></th>\n",
       "      <th>ID</th>\n",
       "      <th>Date</th>\n",
       "      <th>Price</th>\n",
       "      <th>Bedrooms</th>\n",
       "      <th>Bathrooms</th>\n",
       "      <th>Sqft_living</th>\n",
       "      <th>Sqft_lot</th>\n",
       "      <th>Floors</th>\n",
       "      <th>Waterfront</th>\n",
       "      <th>View</th>\n",
       "      <th>...</th>\n",
       "      <th>Grade</th>\n",
       "      <th>Sqft_above</th>\n",
       "      <th>Sqft_basement</th>\n",
       "      <th>Yr_built</th>\n",
       "      <th>Yr_renovated</th>\n",
       "      <th>zipcode</th>\n",
       "      <th>Lat</th>\n",
       "      <th>Long</th>\n",
       "      <th>Sqft_living15</th>\n",
       "      <th>Sqft_lot15</th>\n",
       "    </tr>\n",
       "  </thead>\n",
       "  <tbody>\n",
       "    <tr>\n",
       "      <th>0</th>\n",
       "      <td>1</td>\n",
       "      <td>20140916T000000</td>\n",
       "      <td>280000.0</td>\n",
       "      <td>6</td>\n",
       "      <td>3.00</td>\n",
       "      <td>2400</td>\n",
       "      <td>9373</td>\n",
       "      <td>2.0</td>\n",
       "      <td>0</td>\n",
       "      <td>0</td>\n",
       "      <td>...</td>\n",
       "      <td>7</td>\n",
       "      <td>2400</td>\n",
       "      <td>0</td>\n",
       "      <td>1991</td>\n",
       "      <td>0</td>\n",
       "      <td>98002</td>\n",
       "      <td>47.3262</td>\n",
       "      <td>-122.214</td>\n",
       "      <td>2060</td>\n",
       "      <td>7316</td>\n",
       "    </tr>\n",
       "    <tr>\n",
       "      <th>1</th>\n",
       "      <td>2</td>\n",
       "      <td>20150422T000000</td>\n",
       "      <td>300000.0</td>\n",
       "      <td>6</td>\n",
       "      <td>3.00</td>\n",
       "      <td>2400</td>\n",
       "      <td>9373</td>\n",
       "      <td>2.0</td>\n",
       "      <td>0</td>\n",
       "      <td>0</td>\n",
       "      <td>...</td>\n",
       "      <td>7</td>\n",
       "      <td>2400</td>\n",
       "      <td>0</td>\n",
       "      <td>1991</td>\n",
       "      <td>0</td>\n",
       "      <td>98002</td>\n",
       "      <td>47.3262</td>\n",
       "      <td>-122.214</td>\n",
       "      <td>2060</td>\n",
       "      <td>7316</td>\n",
       "    </tr>\n",
       "    <tr>\n",
       "      <th>2</th>\n",
       "      <td>3</td>\n",
       "      <td>20140508T000000</td>\n",
       "      <td>647500.0</td>\n",
       "      <td>4</td>\n",
       "      <td>1.75</td>\n",
       "      <td>2060</td>\n",
       "      <td>26036</td>\n",
       "      <td>1.0</td>\n",
       "      <td>0</td>\n",
       "      <td>0</td>\n",
       "      <td>...</td>\n",
       "      <td>8</td>\n",
       "      <td>1160</td>\n",
       "      <td>900</td>\n",
       "      <td>1947</td>\n",
       "      <td>0</td>\n",
       "      <td>98166</td>\n",
       "      <td>47.4444</td>\n",
       "      <td>-122.351</td>\n",
       "      <td>2590</td>\n",
       "      <td>21891</td>\n",
       "    </tr>\n",
       "    <tr>\n",
       "      <th>3</th>\n",
       "      <td>4</td>\n",
       "      <td>20140811T000000</td>\n",
       "      <td>400000.0</td>\n",
       "      <td>3</td>\n",
       "      <td>1.00</td>\n",
       "      <td>1460</td>\n",
       "      <td>43000</td>\n",
       "      <td>1.0</td>\n",
       "      <td>0</td>\n",
       "      <td>0</td>\n",
       "      <td>...</td>\n",
       "      <td>7</td>\n",
       "      <td>1460</td>\n",
       "      <td>0</td>\n",
       "      <td>1952</td>\n",
       "      <td>0</td>\n",
       "      <td>98166</td>\n",
       "      <td>47.4434</td>\n",
       "      <td>-122.347</td>\n",
       "      <td>2250</td>\n",
       "      <td>20023</td>\n",
       "    </tr>\n",
       "    <tr>\n",
       "      <th>4</th>\n",
       "      <td>5</td>\n",
       "      <td>20150401T000000</td>\n",
       "      <td>235000.0</td>\n",
       "      <td>3</td>\n",
       "      <td>1.00</td>\n",
       "      <td>1430</td>\n",
       "      <td>7599</td>\n",
       "      <td>1.5</td>\n",
       "      <td>0</td>\n",
       "      <td>0</td>\n",
       "      <td>...</td>\n",
       "      <td>6</td>\n",
       "      <td>1010</td>\n",
       "      <td>420</td>\n",
       "      <td>1930</td>\n",
       "      <td>0</td>\n",
       "      <td>98168</td>\n",
       "      <td>47.4783</td>\n",
       "      <td>-122.265</td>\n",
       "      <td>1290</td>\n",
       "      <td>10320</td>\n",
       "    </tr>\n",
       "  </tbody>\n",
       "</table>\n",
       "<p>5 rows × 21 columns</p>\n",
       "</div>"
      ],
      "text/plain": [
       "   ID             Date     Price  Bedrooms  Bathrooms  Sqft_living  Sqft_lot  \\\n",
       "0   1  20140916T000000  280000.0         6       3.00         2400      9373   \n",
       "1   2  20150422T000000  300000.0         6       3.00         2400      9373   \n",
       "2   3  20140508T000000  647500.0         4       1.75         2060     26036   \n",
       "3   4  20140811T000000  400000.0         3       1.00         1460     43000   \n",
       "4   5  20150401T000000  235000.0         3       1.00         1430      7599   \n",
       "\n",
       "   Floors  Waterfront  View  ...  Grade  Sqft_above  Sqft_basement  Yr_built  \\\n",
       "0     2.0           0     0  ...      7        2400              0      1991   \n",
       "1     2.0           0     0  ...      7        2400              0      1991   \n",
       "2     1.0           0     0  ...      8        1160            900      1947   \n",
       "3     1.0           0     0  ...      7        1460              0      1952   \n",
       "4     1.5           0     0  ...      6        1010            420      1930   \n",
       "\n",
       "   Yr_renovated  zipcode      Lat     Long  Sqft_living15  Sqft_lot15  \n",
       "0             0    98002  47.3262 -122.214           2060        7316  \n",
       "1             0    98002  47.3262 -122.214           2060        7316  \n",
       "2             0    98166  47.4444 -122.351           2590       21891  \n",
       "3             0    98166  47.4434 -122.347           2250       20023  \n",
       "4             0    98168  47.4783 -122.265           1290       10320  \n",
       "\n",
       "[5 rows x 21 columns]"
      ]
     },
     "execution_count": 65,
     "metadata": {},
     "output_type": "execute_result"
    }
   ],
   "source": [
    "data.head()"
   ]
  },
  {
   "cell_type": "code",
   "execution_count": 66,
   "metadata": {},
   "outputs": [
    {
     "data": {
      "text/plain": [
       "Index(['ID', 'Date', 'Price', 'Bedrooms', 'Bathrooms', 'Sqft_living',\n",
       "       'Sqft_lot', 'Floors', 'Waterfront', 'View', 'Condition', 'Grade',\n",
       "       'Sqft_above', 'Sqft_basement', 'Yr_built', 'Yr_renovated', 'zipcode',\n",
       "       'Lat', 'Long', 'Sqft_living15', 'Sqft_lot15'],\n",
       "      dtype='object')"
      ]
     },
     "execution_count": 66,
     "metadata": {},
     "output_type": "execute_result"
    }
   ],
   "source": [
    "data.columns"
   ]
  },
  {
   "cell_type": "code",
   "execution_count": 67,
   "metadata": {},
   "outputs": [],
   "source": [
    "data = data[['Price', 'Bedrooms', 'Bathrooms', 'Sqft_living',\n",
    "       'Sqft_lot', 'Floors', 'Waterfront', 'View', 'Condition', 'Grade',\n",
    "       'Sqft_above', 'Sqft_basement','Sqft_living15', 'Sqft_lot15']]"
   ]
  },
  {
   "cell_type": "code",
   "execution_count": 68,
   "metadata": {},
   "outputs": [
    {
     "data": {
      "text/plain": [
       "Index(['Price', 'Bedrooms', 'Bathrooms', 'Sqft_living', 'Sqft_lot', 'Floors',\n",
       "       'Waterfront', 'View', 'Condition', 'Grade', 'Sqft_above',\n",
       "       'Sqft_basement', 'Sqft_living15', 'Sqft_lot15'],\n",
       "      dtype='object')"
      ]
     },
     "execution_count": 68,
     "metadata": {},
     "output_type": "execute_result"
    }
   ],
   "source": [
    "data.columns #= ['sepal_length', 'sepal_width', 'petal_length', 'petal_width','variety']"
   ]
  },
  {
   "cell_type": "code",
   "execution_count": 69,
   "metadata": {},
   "outputs": [
    {
     "data": {
      "text/plain": [
       "0"
      ]
     },
     "execution_count": 69,
     "metadata": {},
     "output_type": "execute_result"
    }
   ],
   "source": [
    "data.isnull().sum().sum()"
   ]
  },
  {
   "cell_type": "code",
   "execution_count": 70,
   "metadata": {},
   "outputs": [
    {
     "data": {
      "text/html": [
       "<div>\n",
       "<style scoped>\n",
       "    .dataframe tbody tr th:only-of-type {\n",
       "        vertical-align: middle;\n",
       "    }\n",
       "\n",
       "    .dataframe tbody tr th {\n",
       "        vertical-align: top;\n",
       "    }\n",
       "\n",
       "    .dataframe thead th {\n",
       "        text-align: right;\n",
       "    }\n",
       "</style>\n",
       "<table border=\"1\" class=\"dataframe\">\n",
       "  <thead>\n",
       "    <tr style=\"text-align: right;\">\n",
       "      <th></th>\n",
       "      <th>Price</th>\n",
       "      <th>Bedrooms</th>\n",
       "      <th>Bathrooms</th>\n",
       "      <th>Sqft_living</th>\n",
       "      <th>Sqft_lot</th>\n",
       "      <th>Floors</th>\n",
       "      <th>Waterfront</th>\n",
       "      <th>View</th>\n",
       "      <th>Condition</th>\n",
       "      <th>Grade</th>\n",
       "      <th>Sqft_above</th>\n",
       "      <th>Sqft_basement</th>\n",
       "      <th>Sqft_living15</th>\n",
       "      <th>Sqft_lot15</th>\n",
       "    </tr>\n",
       "  </thead>\n",
       "  <tbody>\n",
       "    <tr>\n",
       "      <th>0</th>\n",
       "      <td>280000.0</td>\n",
       "      <td>6</td>\n",
       "      <td>3.00</td>\n",
       "      <td>2400</td>\n",
       "      <td>9373</td>\n",
       "      <td>2.0</td>\n",
       "      <td>0</td>\n",
       "      <td>0</td>\n",
       "      <td>3</td>\n",
       "      <td>7</td>\n",
       "      <td>2400</td>\n",
       "      <td>0</td>\n",
       "      <td>2060</td>\n",
       "      <td>7316</td>\n",
       "    </tr>\n",
       "    <tr>\n",
       "      <th>1</th>\n",
       "      <td>300000.0</td>\n",
       "      <td>6</td>\n",
       "      <td>3.00</td>\n",
       "      <td>2400</td>\n",
       "      <td>9373</td>\n",
       "      <td>2.0</td>\n",
       "      <td>0</td>\n",
       "      <td>0</td>\n",
       "      <td>3</td>\n",
       "      <td>7</td>\n",
       "      <td>2400</td>\n",
       "      <td>0</td>\n",
       "      <td>2060</td>\n",
       "      <td>7316</td>\n",
       "    </tr>\n",
       "    <tr>\n",
       "      <th>2</th>\n",
       "      <td>647500.0</td>\n",
       "      <td>4</td>\n",
       "      <td>1.75</td>\n",
       "      <td>2060</td>\n",
       "      <td>26036</td>\n",
       "      <td>1.0</td>\n",
       "      <td>0</td>\n",
       "      <td>0</td>\n",
       "      <td>4</td>\n",
       "      <td>8</td>\n",
       "      <td>1160</td>\n",
       "      <td>900</td>\n",
       "      <td>2590</td>\n",
       "      <td>21891</td>\n",
       "    </tr>\n",
       "    <tr>\n",
       "      <th>3</th>\n",
       "      <td>400000.0</td>\n",
       "      <td>3</td>\n",
       "      <td>1.00</td>\n",
       "      <td>1460</td>\n",
       "      <td>43000</td>\n",
       "      <td>1.0</td>\n",
       "      <td>0</td>\n",
       "      <td>0</td>\n",
       "      <td>3</td>\n",
       "      <td>7</td>\n",
       "      <td>1460</td>\n",
       "      <td>0</td>\n",
       "      <td>2250</td>\n",
       "      <td>20023</td>\n",
       "    </tr>\n",
       "    <tr>\n",
       "      <th>4</th>\n",
       "      <td>235000.0</td>\n",
       "      <td>3</td>\n",
       "      <td>1.00</td>\n",
       "      <td>1430</td>\n",
       "      <td>7599</td>\n",
       "      <td>1.5</td>\n",
       "      <td>0</td>\n",
       "      <td>0</td>\n",
       "      <td>4</td>\n",
       "      <td>6</td>\n",
       "      <td>1010</td>\n",
       "      <td>420</td>\n",
       "      <td>1290</td>\n",
       "      <td>10320</td>\n",
       "    </tr>\n",
       "    <tr>\n",
       "      <th>...</th>\n",
       "      <td>...</td>\n",
       "      <td>...</td>\n",
       "      <td>...</td>\n",
       "      <td>...</td>\n",
       "      <td>...</td>\n",
       "      <td>...</td>\n",
       "      <td>...</td>\n",
       "      <td>...</td>\n",
       "      <td>...</td>\n",
       "      <td>...</td>\n",
       "      <td>...</td>\n",
       "      <td>...</td>\n",
       "      <td>...</td>\n",
       "      <td>...</td>\n",
       "    </tr>\n",
       "    <tr>\n",
       "      <th>21608</th>\n",
       "      <td>365000.0</td>\n",
       "      <td>5</td>\n",
       "      <td>2.00</td>\n",
       "      <td>1600</td>\n",
       "      <td>4168</td>\n",
       "      <td>1.5</td>\n",
       "      <td>0</td>\n",
       "      <td>0</td>\n",
       "      <td>3</td>\n",
       "      <td>7</td>\n",
       "      <td>1600</td>\n",
       "      <td>0</td>\n",
       "      <td>1190</td>\n",
       "      <td>4168</td>\n",
       "    </tr>\n",
       "    <tr>\n",
       "      <th>21609</th>\n",
       "      <td>380000.0</td>\n",
       "      <td>2</td>\n",
       "      <td>1.00</td>\n",
       "      <td>1040</td>\n",
       "      <td>7372</td>\n",
       "      <td>1.0</td>\n",
       "      <td>0</td>\n",
       "      <td>0</td>\n",
       "      <td>5</td>\n",
       "      <td>7</td>\n",
       "      <td>840</td>\n",
       "      <td>200</td>\n",
       "      <td>1930</td>\n",
       "      <td>5150</td>\n",
       "    </tr>\n",
       "    <tr>\n",
       "      <th>21610</th>\n",
       "      <td>339000.0</td>\n",
       "      <td>3</td>\n",
       "      <td>1.00</td>\n",
       "      <td>1100</td>\n",
       "      <td>4128</td>\n",
       "      <td>1.0</td>\n",
       "      <td>0</td>\n",
       "      <td>0</td>\n",
       "      <td>4</td>\n",
       "      <td>7</td>\n",
       "      <td>720</td>\n",
       "      <td>380</td>\n",
       "      <td>1510</td>\n",
       "      <td>4538</td>\n",
       "    </tr>\n",
       "    <tr>\n",
       "      <th>21611</th>\n",
       "      <td>399900.0</td>\n",
       "      <td>2</td>\n",
       "      <td>1.75</td>\n",
       "      <td>1410</td>\n",
       "      <td>1005</td>\n",
       "      <td>1.5</td>\n",
       "      <td>0</td>\n",
       "      <td>0</td>\n",
       "      <td>3</td>\n",
       "      <td>9</td>\n",
       "      <td>900</td>\n",
       "      <td>510</td>\n",
       "      <td>1440</td>\n",
       "      <td>1188</td>\n",
       "    </tr>\n",
       "    <tr>\n",
       "      <th>21612</th>\n",
       "      <td>268950.0</td>\n",
       "      <td>3</td>\n",
       "      <td>1.00</td>\n",
       "      <td>1320</td>\n",
       "      <td>8100</td>\n",
       "      <td>1.0</td>\n",
       "      <td>0</td>\n",
       "      <td>0</td>\n",
       "      <td>3</td>\n",
       "      <td>6</td>\n",
       "      <td>880</td>\n",
       "      <td>440</td>\n",
       "      <td>1000</td>\n",
       "      <td>8100</td>\n",
       "    </tr>\n",
       "  </tbody>\n",
       "</table>\n",
       "<p>21613 rows × 14 columns</p>\n",
       "</div>"
      ],
      "text/plain": [
       "          Price  Bedrooms  Bathrooms  Sqft_living  Sqft_lot  Floors  \\\n",
       "0      280000.0         6       3.00         2400      9373     2.0   \n",
       "1      300000.0         6       3.00         2400      9373     2.0   \n",
       "2      647500.0         4       1.75         2060     26036     1.0   \n",
       "3      400000.0         3       1.00         1460     43000     1.0   \n",
       "4      235000.0         3       1.00         1430      7599     1.5   \n",
       "...         ...       ...        ...          ...       ...     ...   \n",
       "21608  365000.0         5       2.00         1600      4168     1.5   \n",
       "21609  380000.0         2       1.00         1040      7372     1.0   \n",
       "21610  339000.0         3       1.00         1100      4128     1.0   \n",
       "21611  399900.0         2       1.75         1410      1005     1.5   \n",
       "21612  268950.0         3       1.00         1320      8100     1.0   \n",
       "\n",
       "       Waterfront  View  Condition  Grade  Sqft_above  Sqft_basement  \\\n",
       "0               0     0          3      7        2400              0   \n",
       "1               0     0          3      7        2400              0   \n",
       "2               0     0          4      8        1160            900   \n",
       "3               0     0          3      7        1460              0   \n",
       "4               0     0          4      6        1010            420   \n",
       "...           ...   ...        ...    ...         ...            ...   \n",
       "21608           0     0          3      7        1600              0   \n",
       "21609           0     0          5      7         840            200   \n",
       "21610           0     0          4      7         720            380   \n",
       "21611           0     0          3      9         900            510   \n",
       "21612           0     0          3      6         880            440   \n",
       "\n",
       "       Sqft_living15  Sqft_lot15  \n",
       "0               2060        7316  \n",
       "1               2060        7316  \n",
       "2               2590       21891  \n",
       "3               2250       20023  \n",
       "4               1290       10320  \n",
       "...              ...         ...  \n",
       "21608           1190        4168  \n",
       "21609           1930        5150  \n",
       "21610           1510        4538  \n",
       "21611           1440        1188  \n",
       "21612           1000        8100  \n",
       "\n",
       "[21613 rows x 14 columns]"
      ]
     },
     "execution_count": 70,
     "metadata": {},
     "output_type": "execute_result"
    }
   ],
   "source": [
    "data"
   ]
  },
  {
   "cell_type": "code",
   "execution_count": 71,
   "metadata": {},
   "outputs": [],
   "source": [
    "#data['variety'] = np.where(data['variety']=='Setosa',0,np.where(data['variety']=='Versicolor',1,np.where(data['variety']=='Virginica',2,None)))"
   ]
  },
  {
   "cell_type": "code",
   "execution_count": 72,
   "metadata": {},
   "outputs": [
    {
     "name": "stdout",
     "output_type": "stream",
     "text": [
      "<class 'pandas.core.frame.DataFrame'>\n",
      "RangeIndex: 21613 entries, 0 to 21612\n",
      "Data columns (total 14 columns):\n",
      " #   Column         Non-Null Count  Dtype  \n",
      "---  ------         --------------  -----  \n",
      " 0   Price          21613 non-null  float64\n",
      " 1   Bedrooms       21613 non-null  int64  \n",
      " 2   Bathrooms      21613 non-null  float64\n",
      " 3   Sqft_living    21613 non-null  int64  \n",
      " 4   Sqft_lot       21613 non-null  int64  \n",
      " 5   Floors         21613 non-null  float64\n",
      " 6   Waterfront     21613 non-null  int64  \n",
      " 7   View           21613 non-null  int64  \n",
      " 8   Condition      21613 non-null  int64  \n",
      " 9   Grade          21613 non-null  int64  \n",
      " 10  Sqft_above     21613 non-null  int64  \n",
      " 11  Sqft_basement  21613 non-null  int64  \n",
      " 12  Sqft_living15  21613 non-null  int64  \n",
      " 13  Sqft_lot15     21613 non-null  int64  \n",
      "dtypes: float64(3), int64(11)\n",
      "memory usage: 2.3 MB\n"
     ]
    }
   ],
   "source": [
    "data.info()"
   ]
  },
  {
   "cell_type": "code",
   "execution_count": 73,
   "metadata": {},
   "outputs": [],
   "source": [
    "#data['variety'] = data['variety'].astype('float64')\n",
    "X = data.drop('Price', axis = 1)\n",
    "y = data['Price']"
   ]
  },
  {
   "cell_type": "code",
   "execution_count": 74,
   "metadata": {},
   "outputs": [],
   "source": [
    "X = (data - data.mean())/data.std()"
   ]
  },
  {
   "cell_type": "code",
   "execution_count": 75,
   "metadata": {},
   "outputs": [
    {
     "data": {
      "text/html": [
       "<div>\n",
       "<style scoped>\n",
       "    .dataframe tbody tr th:only-of-type {\n",
       "        vertical-align: middle;\n",
       "    }\n",
       "\n",
       "    .dataframe tbody tr th {\n",
       "        vertical-align: top;\n",
       "    }\n",
       "\n",
       "    .dataframe thead th {\n",
       "        text-align: right;\n",
       "    }\n",
       "</style>\n",
       "<table border=\"1\" class=\"dataframe\">\n",
       "  <thead>\n",
       "    <tr style=\"text-align: right;\">\n",
       "      <th></th>\n",
       "      <th>Price</th>\n",
       "      <th>Bedrooms</th>\n",
       "      <th>Bathrooms</th>\n",
       "      <th>Sqft_living</th>\n",
       "      <th>Sqft_lot</th>\n",
       "      <th>Floors</th>\n",
       "      <th>Waterfront</th>\n",
       "      <th>View</th>\n",
       "      <th>Condition</th>\n",
       "      <th>Grade</th>\n",
       "      <th>Sqft_above</th>\n",
       "      <th>Sqft_basement</th>\n",
       "      <th>Sqft_living15</th>\n",
       "      <th>Sqft_lot15</th>\n",
       "    </tr>\n",
       "  </thead>\n",
       "  <tbody>\n",
       "    <tr>\n",
       "      <th>0</th>\n",
       "      <td>-0.708244</td>\n",
       "      <td>2.826864</td>\n",
       "      <td>1.149422</td>\n",
       "      <td>0.348526</td>\n",
       "      <td>-0.138433</td>\n",
       "      <td>0.936484</td>\n",
       "      <td>-0.087171</td>\n",
       "      <td>-0.305752</td>\n",
       "      <td>-0.629172</td>\n",
       "      <td>-0.558823</td>\n",
       "      <td>0.738577</td>\n",
       "      <td>-0.658666</td>\n",
       "      <td>0.107161</td>\n",
       "      <td>-0.199693</td>\n",
       "    </tr>\n",
       "    <tr>\n",
       "      <th>1</th>\n",
       "      <td>-0.653802</td>\n",
       "      <td>2.826864</td>\n",
       "      <td>1.149422</td>\n",
       "      <td>0.348526</td>\n",
       "      <td>-0.138433</td>\n",
       "      <td>0.936484</td>\n",
       "      <td>-0.087171</td>\n",
       "      <td>-0.305752</td>\n",
       "      <td>-0.629172</td>\n",
       "      <td>-0.558823</td>\n",
       "      <td>0.738577</td>\n",
       "      <td>-0.658666</td>\n",
       "      <td>0.107161</td>\n",
       "      <td>-0.199693</td>\n",
       "    </tr>\n",
       "    <tr>\n",
       "      <th>2</th>\n",
       "      <td>0.292131</td>\n",
       "      <td>0.676469</td>\n",
       "      <td>-0.473610</td>\n",
       "      <td>-0.021667</td>\n",
       "      <td>0.263856</td>\n",
       "      <td>-0.915406</td>\n",
       "      <td>-0.087171</td>\n",
       "      <td>-0.305752</td>\n",
       "      <td>0.907533</td>\n",
       "      <td>0.291909</td>\n",
       "      <td>-0.758843</td>\n",
       "      <td>1.374888</td>\n",
       "      <td>0.880442</td>\n",
       "      <td>0.334108</td>\n",
       "    </tr>\n",
       "    <tr>\n",
       "      <th>3</th>\n",
       "      <td>-0.381591</td>\n",
       "      <td>-0.398728</td>\n",
       "      <td>-1.447430</td>\n",
       "      <td>-0.674948</td>\n",
       "      <td>0.673411</td>\n",
       "      <td>-0.915406</td>\n",
       "      <td>-0.087171</td>\n",
       "      <td>-0.305752</td>\n",
       "      <td>-0.629172</td>\n",
       "      <td>-0.558823</td>\n",
       "      <td>-0.396564</td>\n",
       "      <td>-0.658666</td>\n",
       "      <td>0.384375</td>\n",
       "      <td>0.265694</td>\n",
       "    </tr>\n",
       "    <tr>\n",
       "      <th>4</th>\n",
       "      <td>-0.830739</td>\n",
       "      <td>-0.398728</td>\n",
       "      <td>-1.447430</td>\n",
       "      <td>-0.707612</td>\n",
       "      <td>-0.181262</td>\n",
       "      <td>0.010539</td>\n",
       "      <td>-0.087171</td>\n",
       "      <td>-0.305752</td>\n",
       "      <td>0.907533</td>\n",
       "      <td>-1.409554</td>\n",
       "      <td>-0.939982</td>\n",
       "      <td>0.290326</td>\n",
       "      <td>-1.016284</td>\n",
       "      <td>-0.089673</td>\n",
       "    </tr>\n",
       "    <tr>\n",
       "      <th>...</th>\n",
       "      <td>...</td>\n",
       "      <td>...</td>\n",
       "      <td>...</td>\n",
       "      <td>...</td>\n",
       "      <td>...</td>\n",
       "      <td>...</td>\n",
       "      <td>...</td>\n",
       "      <td>...</td>\n",
       "      <td>...</td>\n",
       "      <td>...</td>\n",
       "      <td>...</td>\n",
       "      <td>...</td>\n",
       "      <td>...</td>\n",
       "      <td>...</td>\n",
       "    </tr>\n",
       "    <tr>\n",
       "      <th>21608</th>\n",
       "      <td>-0.476865</td>\n",
       "      <td>1.751667</td>\n",
       "      <td>-0.149004</td>\n",
       "      <td>-0.522516</td>\n",
       "      <td>-0.264095</td>\n",
       "      <td>0.010539</td>\n",
       "      <td>-0.087171</td>\n",
       "      <td>-0.305752</td>\n",
       "      <td>-0.629172</td>\n",
       "      <td>-0.558823</td>\n",
       "      <td>-0.227500</td>\n",
       "      <td>-0.658666</td>\n",
       "      <td>-1.162186</td>\n",
       "      <td>-0.314987</td>\n",
       "    </tr>\n",
       "    <tr>\n",
       "      <th>21609</th>\n",
       "      <td>-0.436033</td>\n",
       "      <td>-1.473925</td>\n",
       "      <td>-1.447430</td>\n",
       "      <td>-1.132245</td>\n",
       "      <td>-0.186742</td>\n",
       "      <td>-0.915406</td>\n",
       "      <td>-0.087171</td>\n",
       "      <td>-0.305752</td>\n",
       "      <td>2.444237</td>\n",
       "      <td>-0.558823</td>\n",
       "      <td>-1.145274</td>\n",
       "      <td>-0.206765</td>\n",
       "      <td>-0.082511</td>\n",
       "      <td>-0.279022</td>\n",
       "    </tr>\n",
       "    <tr>\n",
       "      <th>21610</th>\n",
       "      <td>-0.547640</td>\n",
       "      <td>-0.398728</td>\n",
       "      <td>-1.447430</td>\n",
       "      <td>-1.066916</td>\n",
       "      <td>-0.265061</td>\n",
       "      <td>-0.915406</td>\n",
       "      <td>-0.087171</td>\n",
       "      <td>-0.305752</td>\n",
       "      <td>0.907533</td>\n",
       "      <td>-0.558823</td>\n",
       "      <td>-1.290185</td>\n",
       "      <td>0.199946</td>\n",
       "      <td>-0.695300</td>\n",
       "      <td>-0.301436</td>\n",
       "    </tr>\n",
       "    <tr>\n",
       "      <th>21611</th>\n",
       "      <td>-0.381863</td>\n",
       "      <td>-1.473925</td>\n",
       "      <td>-0.473610</td>\n",
       "      <td>-0.729388</td>\n",
       "      <td>-0.340459</td>\n",
       "      <td>0.010539</td>\n",
       "      <td>-0.087171</td>\n",
       "      <td>-0.305752</td>\n",
       "      <td>-0.629172</td>\n",
       "      <td>1.142641</td>\n",
       "      <td>-1.072818</td>\n",
       "      <td>0.493681</td>\n",
       "      <td>-0.797431</td>\n",
       "      <td>-0.424128</td>\n",
       "    </tr>\n",
       "    <tr>\n",
       "      <th>21612</th>\n",
       "      <td>-0.738323</td>\n",
       "      <td>-0.398728</td>\n",
       "      <td>-1.447430</td>\n",
       "      <td>-0.827380</td>\n",
       "      <td>-0.169167</td>\n",
       "      <td>-0.915406</td>\n",
       "      <td>-0.087171</td>\n",
       "      <td>-0.305752</td>\n",
       "      <td>-0.629172</td>\n",
       "      <td>-1.409554</td>\n",
       "      <td>-1.096970</td>\n",
       "      <td>0.335516</td>\n",
       "      <td>-1.439400</td>\n",
       "      <td>-0.170980</td>\n",
       "    </tr>\n",
       "  </tbody>\n",
       "</table>\n",
       "<p>21613 rows × 14 columns</p>\n",
       "</div>"
      ],
      "text/plain": [
       "          Price  Bedrooms  Bathrooms  Sqft_living  Sqft_lot    Floors  \\\n",
       "0     -0.708244  2.826864   1.149422     0.348526 -0.138433  0.936484   \n",
       "1     -0.653802  2.826864   1.149422     0.348526 -0.138433  0.936484   \n",
       "2      0.292131  0.676469  -0.473610    -0.021667  0.263856 -0.915406   \n",
       "3     -0.381591 -0.398728  -1.447430    -0.674948  0.673411 -0.915406   \n",
       "4     -0.830739 -0.398728  -1.447430    -0.707612 -0.181262  0.010539   \n",
       "...         ...       ...        ...          ...       ...       ...   \n",
       "21608 -0.476865  1.751667  -0.149004    -0.522516 -0.264095  0.010539   \n",
       "21609 -0.436033 -1.473925  -1.447430    -1.132245 -0.186742 -0.915406   \n",
       "21610 -0.547640 -0.398728  -1.447430    -1.066916 -0.265061 -0.915406   \n",
       "21611 -0.381863 -1.473925  -0.473610    -0.729388 -0.340459  0.010539   \n",
       "21612 -0.738323 -0.398728  -1.447430    -0.827380 -0.169167 -0.915406   \n",
       "\n",
       "       Waterfront      View  Condition     Grade  Sqft_above  Sqft_basement  \\\n",
       "0       -0.087171 -0.305752  -0.629172 -0.558823    0.738577      -0.658666   \n",
       "1       -0.087171 -0.305752  -0.629172 -0.558823    0.738577      -0.658666   \n",
       "2       -0.087171 -0.305752   0.907533  0.291909   -0.758843       1.374888   \n",
       "3       -0.087171 -0.305752  -0.629172 -0.558823   -0.396564      -0.658666   \n",
       "4       -0.087171 -0.305752   0.907533 -1.409554   -0.939982       0.290326   \n",
       "...           ...       ...        ...       ...         ...            ...   \n",
       "21608   -0.087171 -0.305752  -0.629172 -0.558823   -0.227500      -0.658666   \n",
       "21609   -0.087171 -0.305752   2.444237 -0.558823   -1.145274      -0.206765   \n",
       "21610   -0.087171 -0.305752   0.907533 -0.558823   -1.290185       0.199946   \n",
       "21611   -0.087171 -0.305752  -0.629172  1.142641   -1.072818       0.493681   \n",
       "21612   -0.087171 -0.305752  -0.629172 -1.409554   -1.096970       0.335516   \n",
       "\n",
       "       Sqft_living15  Sqft_lot15  \n",
       "0           0.107161   -0.199693  \n",
       "1           0.107161   -0.199693  \n",
       "2           0.880442    0.334108  \n",
       "3           0.384375    0.265694  \n",
       "4          -1.016284   -0.089673  \n",
       "...              ...         ...  \n",
       "21608      -1.162186   -0.314987  \n",
       "21609      -0.082511   -0.279022  \n",
       "21610      -0.695300   -0.301436  \n",
       "21611      -0.797431   -0.424128  \n",
       "21612      -1.439400   -0.170980  \n",
       "\n",
       "[21613 rows x 14 columns]"
      ]
     },
     "execution_count": 75,
     "metadata": {},
     "output_type": "execute_result"
    }
   ],
   "source": [
    "X"
   ]
  },
  {
   "cell_type": "code",
   "execution_count": 76,
   "metadata": {},
   "outputs": [],
   "source": [
    "train_x,test_x,train_y,test_y = train_test_split(X,y, test_size = 0.20, random_state = 42)"
   ]
  },
  {
   "cell_type": "code",
   "execution_count": 77,
   "metadata": {},
   "outputs": [
    {
     "name": "stdout",
     "output_type": "stream",
     "text": [
      "(17290, 14) (4323, 14) (17290,) (4323,)\n"
     ]
    }
   ],
   "source": [
    "print(train_x.shape,test_x.shape,train_y.shape,test_y.shape)"
   ]
  },
  {
   "cell_type": "code",
   "execution_count": 78,
   "metadata": {},
   "outputs": [],
   "source": [
    "x_train_tensor = torch.tensor(train_x.values, dtype = torch.float32)\n",
    "y_train_tensor = torch.tensor(train_y, dtype = torch.float32)\n",
    "x_test_tensor = torch.tensor(np.array(test_x.values), dtype = torch.float32)\n",
    "y_test_tensor = torch.tensor(np.array(test_y), dtype = torch.float32)"
   ]
  },
  {
   "cell_type": "code",
   "execution_count": 79,
   "metadata": {},
   "outputs": [],
   "source": [
    "tensor_dataset = TensorDataset(x_train_tensor,y_train_tensor)"
   ]
  },
  {
   "cell_type": "code",
   "execution_count": 80,
   "metadata": {},
   "outputs": [],
   "source": [
    "dataloader = DataLoader(tensor_dataset, batch_size = 16, shuffle = False)"
   ]
  },
  {
   "cell_type": "code",
   "execution_count": 81,
   "metadata": {},
   "outputs": [
    {
     "data": {
      "text/plain": [
       "<torch.utils.data.dataloader.DataLoader at 0x266f0837610>"
      ]
     },
     "execution_count": 81,
     "metadata": {},
     "output_type": "execute_result"
    }
   ],
   "source": [
    "dataloader"
   ]
  },
  {
   "cell_type": "code",
   "execution_count": 82,
   "metadata": {},
   "outputs": [
    {
     "data": {
      "text/plain": [
       "<torch.utils.data.dataset.TensorDataset at 0x266f08c4280>"
      ]
     },
     "execution_count": 82,
     "metadata": {},
     "output_type": "execute_result"
    }
   ],
   "source": [
    "tensor_dataset"
   ]
  },
  {
   "cell_type": "code",
   "execution_count": 83,
   "metadata": {},
   "outputs": [],
   "source": [
    "# Defining the NN Architecture\n",
    "\n",
    "class FFNNRegression(nn.Module):\n",
    "    def __init__(self, input_size, hidden_size, output_size):\n",
    "        super(FFNNRegression, self).__init__()\n",
    "        self.layers = nn.Sequential(\n",
    "        nn.Linear(input_size, hidden_size), # adding one hidden layer only\n",
    "        nn.ReLU(),\n",
    "        nn.Linear(hidden_size, output_size))\n",
    "            \n",
    "    def forward(self, x):\n",
    "        return self.layers(x)\n",
    "            "
   ]
  },
  {
   "cell_type": "code",
   "execution_count": 84,
   "metadata": {},
   "outputs": [],
   "source": [
    "input_size = train_x.shape[1]\n",
    "hidden_size = 16\n",
    "output_size = 1\n",
    "# defining optimizers\n",
    "\n",
    "model = FFNNRegression(input_size, hidden_size, output_size)\n",
    "\n",
    "#loss_calc = nn.CrossEntropyLoss()\n",
    "loss_calc = nn.MSELoss()\n",
    "optimizer = optim.Adam(model.parameters(), lr = 0.01)"
   ]
  },
  {
   "cell_type": "code",
   "execution_count": 85,
   "metadata": {},
   "outputs": [
    {
     "data": {
      "text/plain": [
       "FFNNRegression(\n",
       "  (layers): Sequential(\n",
       "    (0): Linear(in_features=14, out_features=16, bias=True)\n",
       "    (1): ReLU()\n",
       "    (2): Linear(in_features=16, out_features=1, bias=True)\n",
       "  )\n",
       ")"
      ]
     },
     "execution_count": 85,
     "metadata": {},
     "output_type": "execute_result"
    }
   ],
   "source": [
    "model"
   ]
  },
  {
   "cell_type": "code",
   "execution_count": 86,
   "metadata": {},
   "outputs": [
    {
     "name": "stdout",
     "output_type": "stream",
     "text": [
      "Epochs:[1/20],  Loss:313709690880.0\n",
      "Epochs:[2/20],  Loss:289123663872.0\n",
      "Epochs:[3/20],  Loss:256442466304.0\n",
      "Epochs:[4/20],  Loss:220133720064.0\n",
      "Epochs:[5/20],  Loss:183445962752.0\n",
      "Epochs:[6/20],  Loss:148813053952.0\n",
      "Epochs:[7/20],  Loss:117870714880.0\n",
      "Epochs:[8/20],  Loss:91418525696.0\n",
      "Epochs:[9/20],  Loss:69783887872.0\n",
      "Epochs:[10/20],  Loss:53129256960.0\n",
      "Epochs:[11/20],  Loss:41208127488.0\n",
      "Epochs:[12/20],  Loss:33196707840.0\n",
      "Epochs:[13/20],  Loss:27967172608.0\n",
      "Epochs:[14/20],  Loss:24483786752.0\n",
      "Epochs:[15/20],  Loss:22067445760.0\n",
      "Epochs:[16/20],  Loss:20482492416.0\n",
      "Epochs:[17/20],  Loss:19324770304.0\n",
      "Epochs:[18/20],  Loss:16854963200.0\n",
      "Epochs:[19/20],  Loss:14603827200.0\n",
      "Epochs:[20/20],  Loss:12939184128.0\n"
     ]
    }
   ],
   "source": [
    "# Training loop\n",
    "\n",
    "num_epochs = 20\n",
    "\n",
    "epochs_loss = []\n",
    "for num_epoch in range(num_epochs):\n",
    "    for batch_x, batch_y in dataloader:\n",
    "        outputs = model(batch_x)\n",
    "        loss = loss_calc(outputs.view(-1, 1).float().squeeze(), batch_y)\n",
    "        \n",
    "        optimizer.zero_grad()\n",
    "        loss.backward()\n",
    "        optimizer.step()\n",
    "        \n",
    "    print(f'Epochs:[{num_epoch+1}/{num_epochs}],  Loss:{loss.item()}')\n",
    "    epochs_loss.append(loss.item())"
   ]
  },
  {
   "cell_type": "code",
   "execution_count": 92,
   "metadata": {},
   "outputs": [
    {
     "data": {
      "image/png": "[encoded data removed]",
      "text/plain": [
       "<Figure size 1080x360 with 1 Axes>"
      ]
     },
     "metadata": {
      "needs_background": "light"
     },
     "output_type": "display_data"
    }
   ],
   "source": [
    "plt.figure(figsize = (15,5))\n",
    "plt.plot([i for i in range(num_epochs)], epochs_loss)\n",
    "plt.xlabel('Epochs')\n",
    "plt.ylabel('Loss')\n",
    "plt.show()"
   ]
  },
  {
   "cell_type": "code",
   "execution_count": 93,
   "metadata": {},
   "outputs": [],
   "source": [
    "# prediction\n",
    "\n",
    "with torch.no_grad():\n",
    "    pred_outputs = model(x_test_tensor)\n",
    "    #_,predicted_y = torch.max(pred_outputs, 1)"
   ]
  },
  {
   "cell_type": "code",
   "execution_count": 94,
   "metadata": {},
   "outputs": [
    {
     "data": {
      "text/plain": [
       "0.7230259482789005"
      ]
     },
     "execution_count": 94,
     "metadata": {},
     "output_type": "execute_result"
    }
   ],
   "source": [
    "r2_score(y_test_tensor.tolist(), [item[0] for item in pred_outputs.tolist()])"
   ]
  },
  {
   "cell_type": "code",
   "execution_count": 95,
   "metadata": {},
   "outputs": [
    {
     "data": {
      "text/plain": [
       "182044.47450696293"
      ]
     },
     "execution_count": 95,
     "metadata": {},
     "output_type": "execute_result"
    }
   ],
   "source": [
    "np.sqrt(mean_squared_error(y_test_tensor.tolist(), [item[0] for item in pred_outputs.tolist()]))"
   ]
  },
  {
   "cell_type": "code",
   "execution_count": 96,
   "metadata": {},
   "outputs": [
    {
     "data": {
      "text/plain": [
       "540059.6245662734"
      ]
     },
     "execution_count": 96,
     "metadata": {},
     "output_type": "execute_result"
    }
   ],
   "source": [
    "np.mean(y_test_tensor.tolist())"
   ]
  },
  {
   "cell_type": "code",
   "execution_count": 98,
   "metadata": {},
   "outputs": [
    {
     "data": {
      "text/plain": [
       "0.33708168922284415"
      ]
     },
     "execution_count": 98,
     "metadata": {},
     "output_type": "execute_result"
    }
   ],
   "source": [
    "182044/540059"
   ]
  },
  {
   "cell_type": "code",
   "execution_count": null,
   "metadata": {},
   "outputs": [],
   "source": []
  }
 ],
 "metadata": {
  "kernelspec": {
   "display_name": "Python 3",
   "language": "python",
   "name": "python3"
  },
  "language_info": {
   "codemirror_mode": {
    "name": "ipython",
    "version": 3
   },
   "file_extension": ".py",
   "mimetype": "text/x-python",
   "name": "python",
   "nbconvert_exporter": "python",
   "pygments_lexer": "ipython3",
   "version": "3.8.5"
  }
 },
 "nbformat": 4,
 "nbformat_minor": 4
}
